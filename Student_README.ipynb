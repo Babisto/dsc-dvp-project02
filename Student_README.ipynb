{
 "cells": [
  {
   "cell_type": "markdown",
   "id": "8f55016a",
   "metadata": {},
   "source": [
    "# Project 2: More Data, More Visualizations"
   ]
  },
  {
   "cell_type": "markdown",
   "id": "b75cfd5d",
   "metadata": {},
   "source": [
    "* Student name: Raphael Kubai   \n",
    "* Student pace: part time\n",
    "* Instructor name: Samwel Jane and Veronica Isiaho\n"
   ]
  },
  {
   "cell_type": "markdown",
   "id": "5badf739",
   "metadata": {},
   "source": [
    "Problem Statement\n",
    "The lack of an efficient and accessible food security monitoring tool in Karamoja, Uganda, hinders the ability of NGOs to effectively prioritize their activities, allocate resources, and make critical decisions on the needs of farmers."
   ]
  },
  {
   "cell_type": "markdown",
   "id": "c03e11df",
   "metadata": {},
   "source": [
    "Research Question\n",
    "As a Data Analyst, the agri-tech team is asking you to develop an interactive visualization tool of the results for this first crop season. This visualization tool that you will develop will be used as a first mockup of the Food Security Monitoring tool that DDI will develop for the NGO.\n",
    "Based on your experience, the team expects you to come up with a first draft within the coming 3 working days. They give you carte blanche in terms of structure and functionalities but they know that the client wants:\n",
    "At least a map in the dashboard\n",
    "The possibility of visualizing the results by district or sub-county (two administrative levels used by the NGO)"
   ]
  },
  {
   "cell_type": "markdown",
   "id": "6350cb82",
   "metadata": {},
   "source": [
    "Data Source\n"
   ]
  }
 ],
 "metadata": {
  "kernelspec": {
   "display_name": "Python (learn-env)",
   "language": "python",
   "name": "learn-env"
  },
  "language_info": {
   "codemirror_mode": {
    "name": "ipython",
    "version": 3
   },
   "file_extension": ".py",
   "mimetype": "text/x-python",
   "name": "python",
   "nbconvert_exporter": "python",
   "pygments_lexer": "ipython3",
   "version": "3.9.15"
  }
 },
 "nbformat": 4,
 "nbformat_minor": 5
}
